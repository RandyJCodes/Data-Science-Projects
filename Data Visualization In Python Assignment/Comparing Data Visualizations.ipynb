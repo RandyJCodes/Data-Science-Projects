{
 "cells": [
  {
   "cell_type": "code",
   "execution_count": 1,
   "id": "cf0f951c",
   "metadata": {},
   "outputs": [],
   "source": [
    "import pandas as pd\n",
    "from matplotlib import pyplot as plt"
   ]
  },
  {
   "cell_type": "code",
   "execution_count": 67,
   "id": "dfaea3d6",
   "metadata": {},
   "outputs": [
    {
     "name": "stderr",
     "output_type": "stream",
     "text": [
      "<ipython-input-67-d4b2f99e47fa>:8: UserWarning: Boolean Series key will be reindexed to match DataFrame index.\n",
      "  data_asia = data_1952[data.continent == 'Asia']\n",
      "<ipython-input-67-d4b2f99e47fa>:11: UserWarning: Boolean Series key will be reindexed to match DataFrame index.\n",
      "  data_africa = data_1952[data.continent == 'Africa']\n"
     ]
    },
    {
     "data": {
      "text/plain": [
       "country            object\n",
       "continent          object\n",
       "year                int64\n",
       "lifeExpectancy    float64\n",
       "population          int64\n",
       "gdpPerCapita      float64\n",
       "dtype: object"
      ]
     },
     "execution_count": 67,
     "metadata": {},
     "output_type": "execute_result"
    }
   ],
   "source": [
    "# For this project we are just looking at 1952 data from asia and africa\n",
    "# Created variables in this section to set multiple data sets. \n",
    "data = pd.read_csv('countries.csv')\n",
    "\n",
    "#one for the year we are working with. \n",
    "data_1952 = data[data.year == 1952]\n",
    "# one for the asian countries\n",
    "data_asia = data_1952[data.continent == 'Asia']\n",
    "\n",
    "# One for the african countires. \n",
    "data_africa = data_1952[data.continent == 'Africa']\n",
    "\n",
    "data_1952.dtypes\n"
   ]
  },
  {
   "cell_type": "code",
   "execution_count": 68,
   "id": "467855f1",
   "metadata": {},
   "outputs": [
    {
     "data": {
      "text/html": [
       "<div>\n",
       "<style scoped>\n",
       "    .dataframe tbody tr th:only-of-type {\n",
       "        vertical-align: middle;\n",
       "    }\n",
       "\n",
       "    .dataframe tbody tr th {\n",
       "        vertical-align: top;\n",
       "    }\n",
       "\n",
       "    .dataframe thead th {\n",
       "        text-align: right;\n",
       "    }\n",
       "</style>\n",
       "<table border=\"1\" class=\"dataframe\">\n",
       "  <thead>\n",
       "    <tr style=\"text-align: right;\">\n",
       "      <th></th>\n",
       "      <th>country</th>\n",
       "      <th>continent</th>\n",
       "      <th>year</th>\n",
       "      <th>lifeExpectancy</th>\n",
       "      <th>population</th>\n",
       "      <th>gdpPerCapita</th>\n",
       "    </tr>\n",
       "  </thead>\n",
       "  <tbody>\n",
       "    <tr>\n",
       "      <th>0</th>\n",
       "      <td>Afghanistan</td>\n",
       "      <td>Asia</td>\n",
       "      <td>1952</td>\n",
       "      <td>28.801</td>\n",
       "      <td>8425333</td>\n",
       "      <td>779.445314</td>\n",
       "    </tr>\n",
       "    <tr>\n",
       "      <th>12</th>\n",
       "      <td>Albania</td>\n",
       "      <td>Europe</td>\n",
       "      <td>1952</td>\n",
       "      <td>55.230</td>\n",
       "      <td>1282697</td>\n",
       "      <td>1601.056136</td>\n",
       "    </tr>\n",
       "    <tr>\n",
       "      <th>24</th>\n",
       "      <td>Algeria</td>\n",
       "      <td>Africa</td>\n",
       "      <td>1952</td>\n",
       "      <td>43.077</td>\n",
       "      <td>9279525</td>\n",
       "      <td>2449.008185</td>\n",
       "    </tr>\n",
       "    <tr>\n",
       "      <th>36</th>\n",
       "      <td>Angola</td>\n",
       "      <td>Africa</td>\n",
       "      <td>1952</td>\n",
       "      <td>30.015</td>\n",
       "      <td>4232095</td>\n",
       "      <td>3520.610273</td>\n",
       "    </tr>\n",
       "    <tr>\n",
       "      <th>48</th>\n",
       "      <td>Argentina</td>\n",
       "      <td>Americas</td>\n",
       "      <td>1952</td>\n",
       "      <td>62.485</td>\n",
       "      <td>17876956</td>\n",
       "      <td>5911.315053</td>\n",
       "    </tr>\n",
       "  </tbody>\n",
       "</table>\n",
       "</div>"
      ],
      "text/plain": [
       "        country continent  year  lifeExpectancy  population  gdpPerCapita\n",
       "0   Afghanistan      Asia  1952          28.801     8425333    779.445314\n",
       "12      Albania    Europe  1952          55.230     1282697   1601.056136\n",
       "24      Algeria    Africa  1952          43.077     9279525   2449.008185\n",
       "36       Angola    Africa  1952          30.015     4232095   3520.610273\n",
       "48    Argentina  Americas  1952          62.485    17876956   5911.315053"
      ]
     },
     "execution_count": 68,
     "metadata": {},
     "output_type": "execute_result"
    }
   ],
   "source": [
    "data_1952.head()"
   ]
  },
  {
   "cell_type": "code",
   "execution_count": 69,
   "id": "c2bc6ae7",
   "metadata": {},
   "outputs": [
    {
     "data": {
      "text/html": [
       "<div>\n",
       "<style scoped>\n",
       "    .dataframe tbody tr th:only-of-type {\n",
       "        vertical-align: middle;\n",
       "    }\n",
       "\n",
       "    .dataframe tbody tr th {\n",
       "        vertical-align: top;\n",
       "    }\n",
       "\n",
       "    .dataframe thead th {\n",
       "        text-align: right;\n",
       "    }\n",
       "</style>\n",
       "<table border=\"1\" class=\"dataframe\">\n",
       "  <thead>\n",
       "    <tr style=\"text-align: right;\">\n",
       "      <th></th>\n",
       "      <th>country</th>\n",
       "      <th>continent</th>\n",
       "      <th>year</th>\n",
       "      <th>lifeExpectancy</th>\n",
       "      <th>population</th>\n",
       "      <th>gdpPerCapita</th>\n",
       "    </tr>\n",
       "  </thead>\n",
       "  <tbody>\n",
       "    <tr>\n",
       "      <th>0</th>\n",
       "      <td>Afghanistan</td>\n",
       "      <td>Asia</td>\n",
       "      <td>1952</td>\n",
       "      <td>28.801</td>\n",
       "      <td>8425333</td>\n",
       "      <td>779.445314</td>\n",
       "    </tr>\n",
       "    <tr>\n",
       "      <th>84</th>\n",
       "      <td>Bahrain</td>\n",
       "      <td>Asia</td>\n",
       "      <td>1952</td>\n",
       "      <td>50.939</td>\n",
       "      <td>120447</td>\n",
       "      <td>9867.084765</td>\n",
       "    </tr>\n",
       "    <tr>\n",
       "      <th>96</th>\n",
       "      <td>Bangladesh</td>\n",
       "      <td>Asia</td>\n",
       "      <td>1952</td>\n",
       "      <td>37.484</td>\n",
       "      <td>46886859</td>\n",
       "      <td>684.244172</td>\n",
       "    </tr>\n",
       "    <tr>\n",
       "      <th>216</th>\n",
       "      <td>Cambodia</td>\n",
       "      <td>Asia</td>\n",
       "      <td>1952</td>\n",
       "      <td>39.417</td>\n",
       "      <td>4693836</td>\n",
       "      <td>368.469286</td>\n",
       "    </tr>\n",
       "    <tr>\n",
       "      <th>288</th>\n",
       "      <td>China</td>\n",
       "      <td>Asia</td>\n",
       "      <td>1952</td>\n",
       "      <td>44.000</td>\n",
       "      <td>556263527</td>\n",
       "      <td>400.448611</td>\n",
       "    </tr>\n",
       "  </tbody>\n",
       "</table>\n",
       "</div>"
      ],
      "text/plain": [
       "         country continent  year  lifeExpectancy  population  gdpPerCapita\n",
       "0    Afghanistan      Asia  1952          28.801     8425333    779.445314\n",
       "84       Bahrain      Asia  1952          50.939      120447   9867.084765\n",
       "96    Bangladesh      Asia  1952          37.484    46886859    684.244172\n",
       "216     Cambodia      Asia  1952          39.417     4693836    368.469286\n",
       "288        China      Asia  1952          44.000   556263527    400.448611"
      ]
     },
     "execution_count": 69,
     "metadata": {},
     "output_type": "execute_result"
    }
   ],
   "source": [
    "data_asia.head()"
   ]
  },
  {
   "cell_type": "code",
   "execution_count": 70,
   "id": "915bad2e",
   "metadata": {},
   "outputs": [
    {
     "data": {
      "text/html": [
       "<div>\n",
       "<style scoped>\n",
       "    .dataframe tbody tr th:only-of-type {\n",
       "        vertical-align: middle;\n",
       "    }\n",
       "\n",
       "    .dataframe tbody tr th {\n",
       "        vertical-align: top;\n",
       "    }\n",
       "\n",
       "    .dataframe thead th {\n",
       "        text-align: right;\n",
       "    }\n",
       "</style>\n",
       "<table border=\"1\" class=\"dataframe\">\n",
       "  <thead>\n",
       "    <tr style=\"text-align: right;\">\n",
       "      <th></th>\n",
       "      <th>country</th>\n",
       "      <th>continent</th>\n",
       "      <th>year</th>\n",
       "      <th>lifeExpectancy</th>\n",
       "      <th>population</th>\n",
       "      <th>gdpPerCapita</th>\n",
       "    </tr>\n",
       "  </thead>\n",
       "  <tbody>\n",
       "    <tr>\n",
       "      <th>24</th>\n",
       "      <td>Algeria</td>\n",
       "      <td>Africa</td>\n",
       "      <td>1952</td>\n",
       "      <td>43.077</td>\n",
       "      <td>9279525</td>\n",
       "      <td>2449.008185</td>\n",
       "    </tr>\n",
       "    <tr>\n",
       "      <th>36</th>\n",
       "      <td>Angola</td>\n",
       "      <td>Africa</td>\n",
       "      <td>1952</td>\n",
       "      <td>30.015</td>\n",
       "      <td>4232095</td>\n",
       "      <td>3520.610273</td>\n",
       "    </tr>\n",
       "    <tr>\n",
       "      <th>120</th>\n",
       "      <td>Benin</td>\n",
       "      <td>Africa</td>\n",
       "      <td>1952</td>\n",
       "      <td>38.223</td>\n",
       "      <td>1738315</td>\n",
       "      <td>1062.752200</td>\n",
       "    </tr>\n",
       "    <tr>\n",
       "      <th>156</th>\n",
       "      <td>Botswana</td>\n",
       "      <td>Africa</td>\n",
       "      <td>1952</td>\n",
       "      <td>47.622</td>\n",
       "      <td>442308</td>\n",
       "      <td>851.241141</td>\n",
       "    </tr>\n",
       "    <tr>\n",
       "      <th>192</th>\n",
       "      <td>Burkina Faso</td>\n",
       "      <td>Africa</td>\n",
       "      <td>1952</td>\n",
       "      <td>31.975</td>\n",
       "      <td>4469979</td>\n",
       "      <td>543.255241</td>\n",
       "    </tr>\n",
       "  </tbody>\n",
       "</table>\n",
       "</div>"
      ],
      "text/plain": [
       "          country continent  year  lifeExpectancy  population  gdpPerCapita\n",
       "24        Algeria    Africa  1952          43.077     9279525   2449.008185\n",
       "36         Angola    Africa  1952          30.015     4232095   3520.610273\n",
       "120         Benin    Africa  1952          38.223     1738315   1062.752200\n",
       "156      Botswana    Africa  1952          47.622      442308    851.241141\n",
       "192  Burkina Faso    Africa  1952          31.975     4469979    543.255241"
      ]
     },
     "execution_count": 70,
     "metadata": {},
     "output_type": "execute_result"
    }
   ],
   "source": [
    "data_africa.head()"
   ]
  },
  {
   "cell_type": "code",
   "execution_count": 71,
   "id": "d0903858",
   "metadata": {},
   "outputs": [
    {
     "data": {
      "text/plain": [
       "[<matplotlib.lines.Line2D at 0x2adc00fea30>]"
      ]
     },
     "execution_count": 71,
     "metadata": {},
     "output_type": "execute_result"
    },
    {
     "data": {
      "image/png": "[encoded data removed]",
      "text/plain": [
       "<Figure size 1440x720 with 1 Axes>"
      ]
     },
     "metadata": {
      "needs_background": "light"
     },
     "output_type": "display_data"
    }
   ],
   "source": [
    "# this simple dot plot will show us generally how africa's life expectancy compares to Asia's life expectancy \n",
    "# We can generally see that in 1952, Asia's life expectancy has some higher values than africa does. \n",
    "plt.figure(figsize=(20,10))\n",
    "plt.plot(data_asia.country, data_asia.lifeExpectancy,'bo')\n",
    "plt.plot(data_africa.country, data_africa.lifeExpectancy, 'ro')"
   ]
  },
  {
   "cell_type": "code",
   "execution_count": 72,
   "id": "eadf1971",
   "metadata": {},
   "outputs": [
    {
     "data": {
      "text/plain": [
       "country\n",
       "Afghanistan           28.801\n",
       "Bahrain               50.939\n",
       "Bangladesh            37.484\n",
       "Cambodia              39.417\n",
       "China                 44.000\n",
       "Hong Kong, China      60.960\n",
       "India                 37.373\n",
       "Indonesia             37.468\n",
       "Iran                  44.869\n",
       "Iraq                  45.320\n",
       "Israel                65.390\n",
       "Japan                 63.030\n",
       "Jordan                43.158\n",
       "Korea, Dem. Rep.      50.056\n",
       "Korea, Rep.           47.453\n",
       "Kuwait                55.565\n",
       "Lebanon               55.928\n",
       "Malaysia              48.463\n",
       "Mongolia              42.244\n",
       "Myanmar               36.319\n",
       "Nepal                 36.157\n",
       "Oman                  37.578\n",
       "Pakistan              43.436\n",
       "Philippines           47.752\n",
       "Saudi Arabia          39.875\n",
       "Singapore             60.396\n",
       "Sri Lanka             57.593\n",
       "Syria                 45.883\n",
       "Taiwan                58.500\n",
       "Thailand              50.848\n",
       "Vietnam               40.412\n",
       "West Bank and Gaza    43.160\n",
       "Yemen, Rep.           32.548\n",
       "Name: lifeExpectancy, dtype: float64"
      ]
     },
     "execution_count": 72,
     "metadata": {},
     "output_type": "execute_result"
    }
   ],
   "source": [
    "mean_life_expectancy_asia = data_asia.groupby(['country']).mean().lifeExpectancy\n",
    "mean_life_expectancy_asia\n",
    "#Grabbed the average life expectancy in 1952 for asia"
   ]
  },
  {
   "cell_type": "code",
   "execution_count": 73,
   "id": "923c7c69",
   "metadata": {},
   "outputs": [
    {
     "data": {
      "text/plain": [
       "country\n",
       "Algeria                     43.077\n",
       "Angola                      30.015\n",
       "Benin                       38.223\n",
       "Botswana                    47.622\n",
       "Burkina Faso                31.975\n",
       "Burundi                     39.031\n",
       "Cameroon                    38.523\n",
       "Central African Republic    35.463\n",
       "Chad                        38.092\n",
       "Comoros                     40.715\n",
       "Congo, Dem. Rep.            39.143\n",
       "Congo, Rep.                 42.111\n",
       "Cote d'Ivoire               40.477\n",
       "Djibouti                    34.812\n",
       "Egypt                       41.893\n",
       "Equatorial Guinea           34.482\n",
       "Eritrea                     35.928\n",
       "Ethiopia                    34.078\n",
       "Gabon                       37.003\n",
       "Gambia                      30.000\n",
       "Ghana                       43.149\n",
       "Guinea                      33.609\n",
       "Guinea-Bissau               32.500\n",
       "Kenya                       42.270\n",
       "Lesotho                     42.138\n",
       "Liberia                     38.480\n",
       "Libya                       42.723\n",
       "Madagascar                  36.681\n",
       "Malawi                      36.256\n",
       "Mali                        33.685\n",
       "Mauritania                  40.543\n",
       "Mauritius                   50.986\n",
       "Morocco                     42.873\n",
       "Mozambique                  31.286\n",
       "Namibia                     41.725\n",
       "Niger                       37.444\n",
       "Nigeria                     36.324\n",
       "Reunion                     52.724\n",
       "Rwanda                      40.000\n",
       "Sao Tome and Principe       46.471\n",
       "Senegal                     37.278\n",
       "Sierra Leone                30.331\n",
       "Somalia                     32.978\n",
       "South Africa                45.009\n",
       "Sudan                       38.635\n",
       "Swaziland                   41.407\n",
       "Tanzania                    41.215\n",
       "Togo                        38.596\n",
       "Tunisia                     44.600\n",
       "Uganda                      39.978\n",
       "Zambia                      42.038\n",
       "Zimbabwe                    48.451\n",
       "Name: lifeExpectancy, dtype: float64"
      ]
     },
     "execution_count": 73,
     "metadata": {},
     "output_type": "execute_result"
    }
   ],
   "source": [
    "mean_life_expectancy_africa = data_africa.groupby(['country']).mean().lifeExpectancy\n",
    "mean_life_expectancy_africa\n",
    "#Grabbed the average life expectancy in 1952 for africa"
   ]
  },
  {
   "cell_type": "code",
   "execution_count": 76,
   "id": "b0fff9b9",
   "metadata": {},
   "outputs": [
    {
     "data": {
      "image/png": "[encoded data removed]",
      "text/plain": [
       "<Figure size 432x288 with 2 Axes>"
      ]
     },
     "metadata": {
      "needs_background": "light"
     },
     "output_type": "display_data"
    }
   ],
   "source": [
    "plt.subplot(2,1,1) \n",
    "plt.title('Life Expectancy for Asia and Africa - 1952')\n",
    "plt.hist(data_asia.lifeExpectancy, 40, range=(0, 60), edgecolor='black')\n",
    "plt.ylabel('Asia')\n",
    "plt.xlabel('Life Expectancy')\n",
    "plt.subplot(2,1,2)\n",
    "plt.hist(data_africa.lifeExpectancy, 40, range=(0, 60), edgecolor='black')\n",
    "plt.ylabel('Africa')\n",
    "plt.xlabel('Life Expectancy')\n",
    "plt.show()\n",
    "# the maximum mean life expectancy we see from previous mean data is about 60 so thats as high as we will make the range. \n"
   ]
  }
 ],
 "metadata": {
  "kernelspec": {
   "display_name": "Python 3",
   "language": "python",
   "name": "python3"
  },
  "language_info": {
   "codemirror_mode": {
    "name": "ipython",
    "version": 3
   },
   "file_extension": ".py",
   "mimetype": "text/x-python",
   "name": "python",
   "nbconvert_exporter": "python",
   "pygments_lexer": "ipython3",
   "version": "3.8.8"
  }
 },
 "nbformat": 4,
 "nbformat_minor": 5
}
