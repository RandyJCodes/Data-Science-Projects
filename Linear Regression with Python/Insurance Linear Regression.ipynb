{
 "cells": [
  {
   "cell_type": "code",
   "execution_count": 33,
   "id": "1d8dc51a",
   "metadata": {},
   "outputs": [],
   "source": [
    "import numpy as np\n",
    "import matplotlib.pyplot as plt\n",
    "import pandas as pd\n",
    "import seaborn as sns\n",
    "%matplotlib inline"
   ]
  },
  {
   "cell_type": "code",
   "execution_count": 34,
   "id": "1e9959bb",
   "metadata": {},
   "outputs": [
    {
     "data": {
      "text/html": [
       "<div>\n",
       "<style scoped>\n",
       "    .dataframe tbody tr th:only-of-type {\n",
       "        vertical-align: middle;\n",
       "    }\n",
       "\n",
       "    .dataframe tbody tr th {\n",
       "        vertical-align: top;\n",
       "    }\n",
       "\n",
       "    .dataframe thead th {\n",
       "        text-align: right;\n",
       "    }\n",
       "</style>\n",
       "<table border=\"1\" class=\"dataframe\">\n",
       "  <thead>\n",
       "    <tr style=\"text-align: right;\">\n",
       "      <th></th>\n",
       "      <th>age</th>\n",
       "      <th>bmi</th>\n",
       "      <th>children</th>\n",
       "      <th>smoker</th>\n",
       "      <th>charges</th>\n",
       "    </tr>\n",
       "  </thead>\n",
       "  <tbody>\n",
       "    <tr>\n",
       "      <th>0</th>\n",
       "      <td>19</td>\n",
       "      <td>27.900</td>\n",
       "      <td>0</td>\n",
       "      <td>yes</td>\n",
       "      <td>16884.92400</td>\n",
       "    </tr>\n",
       "    <tr>\n",
       "      <th>1</th>\n",
       "      <td>18</td>\n",
       "      <td>33.770</td>\n",
       "      <td>1</td>\n",
       "      <td>no</td>\n",
       "      <td>1725.55230</td>\n",
       "    </tr>\n",
       "    <tr>\n",
       "      <th>2</th>\n",
       "      <td>28</td>\n",
       "      <td>33.000</td>\n",
       "      <td>3</td>\n",
       "      <td>no</td>\n",
       "      <td>4449.46200</td>\n",
       "    </tr>\n",
       "    <tr>\n",
       "      <th>3</th>\n",
       "      <td>33</td>\n",
       "      <td>22.705</td>\n",
       "      <td>0</td>\n",
       "      <td>no</td>\n",
       "      <td>21984.47061</td>\n",
       "    </tr>\n",
       "    <tr>\n",
       "      <th>4</th>\n",
       "      <td>32</td>\n",
       "      <td>28.880</td>\n",
       "      <td>0</td>\n",
       "      <td>no</td>\n",
       "      <td>3866.85520</td>\n",
       "    </tr>\n",
       "  </tbody>\n",
       "</table>\n",
       "</div>"
      ],
      "text/plain": [
       "   age     bmi  children smoker      charges\n",
       "0   19  27.900         0    yes  16884.92400\n",
       "1   18  33.770         1     no   1725.55230\n",
       "2   28  33.000         3     no   4449.46200\n",
       "3   33  22.705         0     no  21984.47061\n",
       "4   32  28.880         0     no   3866.85520"
      ]
     },
     "execution_count": 34,
     "metadata": {},
     "output_type": "execute_result"
    }
   ],
   "source": [
    "#import the dataset and extract the independent and dependent variables. \n",
    "ins = pd.read_csv('./insuranceData.csv')\n",
    "x = ins.iloc[:, :-1].values\n",
    "y = ins.iloc[:, 4].values\n",
    "\n",
    "ins.head()"
   ]
  },
  {
   "cell_type": "code",
   "execution_count": 35,
   "id": "cc5433ba",
   "metadata": {},
   "outputs": [
    {
     "name": "stdout",
     "output_type": "stream",
     "text": [
      "  (0, 1)\t1.0\n",
      "  (0, 47)\t27.9\n",
      "  (0, 49)\t1.0\n",
      "  (1, 0)\t1.0\n",
      "  (1, 47)\t33.77\n",
      "  (1, 48)\t1.0\n",
      "  (2, 10)\t1.0\n",
      "  (2, 47)\t33.0\n",
      "  (2, 48)\t3.0\n",
      "  (3, 15)\t1.0\n",
      "  (3, 47)\t22.705\n",
      "  (4, 14)\t1.0\n",
      "  (4, 47)\t28.88\n",
      "  (5, 13)\t1.0\n",
      "  (5, 47)\t25.74\n",
      "  (6, 28)\t1.0\n",
      "  (6, 47)\t33.44\n",
      "  (6, 48)\t1.0\n",
      "  (7, 19)\t1.0\n",
      "  (7, 47)\t27.74\n",
      "  (7, 48)\t3.0\n",
      "  (8, 19)\t1.0\n",
      "  (8, 47)\t29.83\n",
      "  (8, 48)\t2.0\n",
      "  (9, 42)\t1.0\n",
      "  :\t:\n",
      "  (1328, 47)\t24.225\n",
      "  (1328, 48)\t2.0\n",
      "  (1329, 34)\t1.0\n",
      "  (1329, 47)\t38.6\n",
      "  (1329, 48)\t2.0\n",
      "  (1330, 39)\t1.0\n",
      "  (1330, 47)\t25.74\n",
      "  (1330, 48)\t2.0\n",
      "  (1331, 5)\t1.0\n",
      "  (1331, 47)\t33.4\n",
      "  (1332, 34)\t1.0\n",
      "  (1332, 47)\t44.7\n",
      "  (1332, 48)\t3.0\n",
      "  (1333, 32)\t1.0\n",
      "  (1333, 47)\t30.97\n",
      "  (1333, 48)\t3.0\n",
      "  (1334, 0)\t1.0\n",
      "  (1334, 47)\t31.92\n",
      "  (1335, 0)\t1.0\n",
      "  (1335, 47)\t36.85\n",
      "  (1336, 3)\t1.0\n",
      "  (1336, 47)\t25.8\n",
      "  (1337, 43)\t1.0\n",
      "  (1337, 47)\t29.07\n",
      "  (1337, 49)\t1.0\n"
     ]
    }
   ],
   "source": [
    "# Encoding the categorical data.\n",
    "from sklearn.preprocessing import LabelEncoder, OneHotEncoder\n",
    "from sklearn.compose import ColumnTransformer \n",
    "\n",
    "# Transform Smoker data to numerical. quick Normalization\n",
    "labelencoder = LabelEncoder()\n",
    "x[:, 3] = labelencoder.fit_transform(x[:, 3])\n",
    "\n",
    "# This will return a sparse matrix using the column transformer method and OneHotEncoder. \n",
    "onehotencoder = ColumnTransformer([('smoker', OneHotEncoder(), [0])],remainder = 'passthrough')\n",
    "x = onehotencoder.fit_transform(x)\n",
    "print(x)"
   ]
  },
  {
   "cell_type": "code",
   "execution_count": 36,
   "id": "27472534",
   "metadata": {},
   "outputs": [],
   "source": [
    "# Set the test data set to 15%\n",
    "from sklearn.model_selection import train_test_split\n",
    "x_train, x_test, y_train, y_test = train_test_split(x,y, test_size = 0.15, random_state = 42)"
   ]
  },
  {
   "cell_type": "code",
   "execution_count": 37,
   "id": "e27e853c",
   "metadata": {},
   "outputs": [
    {
     "data": {
      "text/plain": [
       "LinearRegression()"
      ]
     },
     "execution_count": 37,
     "metadata": {},
     "output_type": "execute_result"
    }
   ],
   "source": [
    "# \n",
    "from sklearn.linear_model import LinearRegression\n",
    "regressor = LinearRegression()\n",
    "regressor.fit(x_train, y_train)"
   ]
  },
  {
   "cell_type": "code",
   "execution_count": 38,
   "id": "8a2eda7b",
   "metadata": {
    "collapsed": true
   },
   "outputs": [
    {
     "data": {
      "text/plain": [
       "array([ 1.00673107e+04,  5.72756451e+03,  3.83631110e+04,  9.06376095e+03,\n",
       "        2.77291456e+04,  1.13617766e+04,  1.02858979e+03,  1.81281963e+04,\n",
       "        2.04803262e+03,  1.00280055e+04,  2.83386705e+04,  8.37816413e+03,\n",
       "        4.43400629e+03,  3.80435146e+04,  4.30056500e+04,  3.63322467e+04,\n",
       "        1.38631275e+04,  3.50075180e+04,  8.60644869e+03,  3.12979455e+04,\n",
       "        6.18215103e+03,  1.05706773e+04,  3.52462799e+03,  7.44757710e+03,\n",
       "        1.18208276e+04,  1.43331099e+04,  1.74399448e+04,  5.69163607e+03,\n",
       "        8.70260127e+03,  2.32452107e+03,  7.17947150e+03,  1.23840132e+04,\n",
       "        5.15945763e+03,  3.20664598e+03,  4.01764885e+03,  1.35115420e+04,\n",
       "        3.07172067e+03,  9.12249204e+03,  3.27757040e+04,  3.16841604e+04,\n",
       "        5.92225884e+03,  5.36458847e+03,  1.29206004e+04,  1.32758645e+04,\n",
       "        8.27236528e+03,  1.45151233e+04,  5.95390123e+03,  5.12180100e+03,\n",
       "        3.59543082e+04,  8.46184851e+03,  1.58172240e+04,  2.67425958e+03,\n",
       "        9.23566302e+03,  1.05355171e+03,  1.18934337e+04,  1.24903970e+04,\n",
       "        3.17040726e+03,  3.15124671e+04,  1.29722524e+04,  1.27047473e+04,\n",
       "        1.43927254e+04,  9.94774522e+03,  1.78167708e+04,  5.16161345e+03,\n",
       "        1.05940295e+04,  5.37813888e+03,  2.83539438e+04,  1.09579029e+04,\n",
       "        3.36977774e+03,  7.35102775e+03,  8.71273499e+03,  1.05452946e+04,\n",
       "        1.02778973e+04,  6.89944123e+03,  1.26009943e+04,  5.69590899e+03,\n",
       "        6.38330931e+03,  9.11407853e+03,  8.20808783e+03,  1.08269883e+04,\n",
       "        3.31452663e+03,  3.74732303e+04,  4.00252594e+03,  3.32907385e+04,\n",
       "        3.58084102e+04,  3.49365602e+04,  6.88501807e+03,  1.42485126e+04,\n",
       "        9.96447398e+03,  1.55456656e+04,  1.85455787e+04,  3.71301282e+04,\n",
       "        3.16821051e+04,  5.06046228e+03,  3.14022328e+04,  8.88781809e+03,\n",
       "        2.68569904e+04,  3.21006340e+03,  2.81028368e+04,  4.41513345e+03,\n",
       "        4.69614855e+03,  3.04979510e+03,  1.02522813e+04,  1.42025391e+04,\n",
       "        1.20967825e+04,  4.51977673e+03,  1.08614681e+04,  3.25186435e+04,\n",
       "       -4.20013009e+02,  3.37389089e+04,  4.37932718e+03,  9.25030724e+03,\n",
       "        1.33425670e+04,  3.16093535e+04,  9.50263389e+03,  3.80354946e+03,\n",
       "        1.53807528e+04,  3.24263549e+04,  9.55472455e+03,  6.02676941e+03,\n",
       "        8.30701839e+03,  9.52092860e+03,  1.41567488e+04,  7.76884160e+03,\n",
       "        5.31002446e+03,  9.16005561e+03,  1.09395192e+04,  9.20190640e+03,\n",
       "        1.63591127e+04,  1.00391623e+04,  2.54015074e+03,  8.44482683e+03,\n",
       "        8.33883586e+03,  1.30303780e+04,  5.85808453e+03,  1.75540538e+04,\n",
       "        6.92553275e+03,  2.92855195e+04,  3.60125960e+04,  3.20847749e+04,\n",
       "        4.73516378e+03,  1.09835984e+04,  5.13989227e+03,  1.38860941e+04,\n",
       "        3.79718238e+03,  3.21797173e+04,  5.64653942e+03,  4.33407805e+03,\n",
       "        1.35459481e+04,  6.04861362e+03,  3.93513236e+04,  5.67386534e+03,\n",
       "        5.80662889e+03,  2.83448001e+04,  9.82542672e+03,  8.16462357e+03,\n",
       "        1.54640234e+04,  8.98597327e+03,  2.81058463e+04,  3.02223964e+04,\n",
       "        1.37556165e+04,  2.64454933e+03,  1.54199560e+04,  4.53110087e+03,\n",
       "        8.90414661e+03,  9.02200481e+03,  3.99837550e+04,  3.58968575e+04,\n",
       "        3.42002621e+04,  5.24067435e+03,  6.50169006e+03,  6.35660401e+03,\n",
       "        8.97773658e+03,  3.92566673e+03,  3.42574257e+03,  3.14557681e+04,\n",
       "        2.63932824e+04,  1.89433261e+04,  2.39161370e+04,  9.64739296e+03,\n",
       "        3.68308646e+04,  3.75385318e+01,  5.88373175e+03,  8.44946825e+03,\n",
       "        3.38134997e+03,  6.97270513e+03,  4.44983405e+03,  3.87949103e+03,\n",
       "        1.40350296e+04,  1.26245841e+04,  1.02969897e+04,  2.01587969e+03,\n",
       "        2.18484596e+03,  3.15236016e+04,  1.75912747e+04,  1.10421611e+04,\n",
       "        2.25360359e+03,  1.43171721e+04,  1.11369721e+03,  9.24265015e+03,\n",
       "        9.64528439e+02])"
      ]
     },
     "execution_count": 38,
     "metadata": {},
     "output_type": "execute_result"
    }
   ],
   "source": [
    "y_pred = regressor.predict(x_test)\n",
    "y_pred"
   ]
  },
  {
   "cell_type": "code",
   "execution_count": 39,
   "id": "200c92ac",
   "metadata": {
    "collapsed": true
   },
   "outputs": [
    {
     "name": "stdout",
     "output_type": "stream",
     "text": [
      "[-5763.56952121 -4645.766969   -5783.37522532 -4425.93932403\n",
      " -3700.02004056 -1774.78362709 -2129.94505045 -2898.06507414\n",
      " -4619.61006858 -4259.2170716  -1972.32291501 -4073.46497149\n",
      " -3436.20472751 -3424.79506905 -5164.90798344 -2778.57242663\n",
      " -1359.04511063 -2746.92292085 -2322.5394458     70.73536967\n",
      " -2156.23848337 -3072.04304308 -3016.6569278  -1039.34845074\n",
      " -2481.60691203   516.88865508  1412.29999346  2363.94486365\n",
      "   586.47252885   548.14416556  1179.9954434    618.46187649\n",
      "  2591.72042356  1700.51172641  2273.27080073  3632.16986171\n",
      "  5440.9689894   5326.29890887  2447.32104327  3762.52695838\n",
      "  3947.15822916  6669.25255576  7781.74010906  6061.55272524\n",
      "  6752.31895143  5779.15303755  7582.05414269   316.55525662\n",
      "   593.48606291 23723.35359948]\n"
     ]
    }
   ],
   "source": [
    "# Coefficient\n",
    "print(regressor.coef_)"
   ]
  },
  {
   "cell_type": "code",
   "execution_count": 40,
   "id": "61aacc4e",
   "metadata": {
    "collapsed": true
   },
   "outputs": [
    {
     "name": "stdout",
     "output_type": "stream",
     "text": [
      "-1452.8848472085701\n"
     ]
    }
   ],
   "source": [
    "# Intercept\n",
    "print(regressor.intercept_)"
   ]
  },
  {
   "cell_type": "code",
   "execution_count": 41,
   "id": "0388e8ba",
   "metadata": {},
   "outputs": [
    {
     "data": {
      "text/plain": [
       "0.787429029992154"
      ]
     },
     "execution_count": 41,
     "metadata": {},
     "output_type": "execute_result"
    }
   ],
   "source": [
    "# With the R2 score, we can determine that there is a high correlation between higher charges and being a smoker. 78%\n",
    "from sklearn.metrics import r2_score\n",
    "r2_score(y_test, y_pred)"
   ]
  },
  {
   "cell_type": "code",
   "execution_count": null,
   "id": "2efe148e",
   "metadata": {},
   "outputs": [],
   "source": []
  }
 ],
 "metadata": {
  "kernelspec": {
   "display_name": "Python 3",
   "language": "python",
   "name": "python3"
  },
  "language_info": {
   "codemirror_mode": {
    "name": "ipython",
    "version": 3
   },
   "file_extension": ".py",
   "mimetype": "text/x-python",
   "name": "python",
   "nbconvert_exporter": "python",
   "pygments_lexer": "ipython3",
   "version": "3.8.8"
  }
 },
 "nbformat": 4,
 "nbformat_minor": 5
}
